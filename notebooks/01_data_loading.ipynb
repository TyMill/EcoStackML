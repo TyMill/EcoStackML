# 📘 Notebook 01: Data Loading with EcoStackML

This notebook demonstrates how to load data from different formats using the `DataLoader` class.

---

## 📦 Load CSV, JSON and Parquet

```python
from ecostackml.data.loader import DataLoader

# CSV
df_csv = DataLoader.from_csv("notebooks/demo_data/sample.csv")
print("CSV preview:")
display(df_csv)

# JSON
df_json = DataLoader.from_json("notebooks/demo_data/sample.json")
print("JSON preview:")
display(df_json)

# Parquet (requires pyarrow or fastparquet)
try:
    df_parquet = DataLoader.from_parquet("notebooks/demo_data/sample.parquet")
    print("Parquet preview:")
    display(df_parquet)
except Exception as e:
    print("Parquet loading failed. Make sure pyarrow or fastparquet is installed.")
    print(e)
```

---

## 🐘 Hive/Beeline Query (Mock)

```python
# Example Hive query (requires active connection or system beeline)
# Uncomment and set up connection if you want to test this

# from pyhive import hive
# conn = hive.Connection(host="localhost", port=10000, database="default")
# df_hive = DataLoader.from_hive("SELECT * FROM sample_table", connection=conn)

# Or using system beeline:
# df_hive = DataLoader.from_hive("SELECT * FROM sample_table")

print("Hive connection not available in demo mode.")
```

---

## ✅ Summary

You have successfully loaded:
- CSV
- JSON
- (optionally) Parquet
- And explored how Hive query can be integrated.
