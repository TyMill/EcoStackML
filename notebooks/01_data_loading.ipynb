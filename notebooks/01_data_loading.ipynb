{
 "cells": [
  {
   "cell_type": "markdown",
   "id": "2cbfd3b9",
   "metadata": {},
   "source": [
    "# 📘 Notebook 01: Data Loading with EcoStackML"
   ]
  },
  {
   "cell_type": "code",
   "execution_count": null,
   "id": "8fec11d6",
   "metadata": {},
   "outputs": [],
   "source": [
    "from ecostackml.data.loader import DataLoader\n",
    "\n",
    "# CSV\n",
    "df_csv = DataLoader.from_csv(\"notebooks/demo_data/sample.csv\")\n",
    "display(df_csv)\n",
    "\n",
    "# JSON\n",
    "df_json = DataLoader.from_json(\"notebooks/demo_data/sample.json\")\n",
    "display(df_json)\n",
    "\n",
    "# Parquet\n",
    "try:\n",
    "    df_parquet = DataLoader.from_parquet(\"notebooks/demo_data/sample.parquet\")\n",
    "    display(df_parquet)\n",
    "except Exception as e:\n",
    "    print(\"Parquet loading failed.\", e)"
   ]
  }
 ],
 "metadata": {},
 "nbformat": 4,
 "nbformat_minor": 5
}
