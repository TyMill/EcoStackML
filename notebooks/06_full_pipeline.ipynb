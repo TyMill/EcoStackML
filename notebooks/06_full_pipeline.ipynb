{
 "cells": [
  {
   "cell_type": "markdown",
   "id": "e343d821",
   "metadata": {},
   "source": [
    "# 🔄 Notebook 06: Full EcoStackML Pipeline"
   ]
  },
  {
   "cell_type": "code",
   "execution_count": null,
   "id": "6a94cac9",
   "metadata": {},
   "outputs": [],
   "source": [
    "from ecostackml.data.loader import DataLoader\n",
    "df = DataLoader.from_csv(\"notebooks/demo_data/sample.csv\")\n",
    "df[\"target\"] = [0, 0, 1, 0, 1]"
   ]
  },
  {
   "cell_type": "code",
   "execution_count": null,
   "id": "513d355b",
   "metadata": {},
   "outputs": [],
   "source": [
    "from ecostackml.preprocessing.cleaner import Cleaner\n",
    "cleaner = Cleaner(strategy=\"median\", scaling=\"standard\", anomaly_method=\"iqr\")\n",
    "df_clean = cleaner.fit_transform(df)"
   ]
  },
  {
   "cell_type": "code",
   "execution_count": null,
   "id": "8f373b4e",
   "metadata": {},
   "outputs": [],
   "source": [
    "from ecostackml.data.splitter import split_data\n",
    "X_train, X_test, _, y_train, y_test, _ = split_data(df_clean, target_column=\"target\", stratify=True)"
   ]
  },
  {
   "cell_type": "code",
   "execution_count": null,
   "id": "f6e42c11",
   "metadata": {},
   "outputs": [],
   "source": [
    "from ecostackml.models.stacker import ModelStacker\n",
    "stacker = ModelStacker(\n",
    "    base_models_config=[{\"name\": \"random_forest\"}, {\"name\": \"xgboost\"}],\n",
    "    meta_model_name=\"logistic\", model_type=\"classification\")\n",
    "stacker.fit(X_train, y_train)"
   ]
  },
  {
   "cell_type": "code",
   "execution_count": null,
   "id": "629f5722",
   "metadata": {},
   "outputs": [],
   "source": [
    "y_pred = stacker.predict(X_test)\n",
    "import pandas as pd\n",
    "meta_input = pd.DataFrame([\n",
    "    model.model.predict(X_test) for model in stacker.base_models\n",
    "]).T\n",
    "y_proba = stacker.meta_model.model.predict_proba(meta_input)[:, 1]"
   ]
  },
  {
   "cell_type": "code",
   "execution_count": null,
   "id": "48a08f38",
   "metadata": {},
   "outputs": [],
   "source": [
    "from ecostackml.models.evaluator import evaluate_classification\n",
    "metrics = evaluate_classification(y_test, y_pred, y_proba)\n",
    "metrics"
   ]
  },
  {
   "cell_type": "code",
   "execution_count": null,
   "id": "6796f862",
   "metadata": {},
   "outputs": [],
   "source": [
    "stacker.explain_base_models(X_test)\n",
    "stacker.explain_meta_model(X_test)"
   ]
  },
  {
   "cell_type": "code",
   "execution_count": null,
   "id": "0a50fe0a",
   "metadata": {},
   "outputs": [],
   "source": [
    "from ecostackml.utils.save_load import save_model, save_predictions, save_metrics\n",
    "save_model(stacker.meta_model.model, \"models/stacked_meta_model.pkl\")\n",
    "save_predictions(y_test, y_pred, \"results/predictions.csv\")\n",
    "save_metrics(metrics, \"results/metrics.json\")"
   ]
  }
 ],
 "metadata": {},
 "nbformat": 4,
 "nbformat_minor": 5
}
