{
 "cells": [
  {
   "cell_type": "markdown",
   "id": "c9a15ff0",
   "metadata": {},
   "source": [
    "# 💾 Notebook 07: Saving and Loading with EcoStackML"
   ]
  },
  {
   "cell_type": "code",
   "execution_count": null,
   "id": "31aeea63",
   "metadata": {},
   "outputs": [],
   "source": [
    "from ecostackml.utils.save_load import save_model, load_model, save_stacker, load_stacker\n",
    "save_stacker(stacker, \"models/full_stacker.pkl\")\n",
    "loaded_stacker = load_stacker(\"models/full_stacker.pkl\")\n",
    "preds = loaded_stacker.predict(X_test)\n",
    "print(preds[:5])"
   ]
  }
 ],
 "metadata": {},
 "nbformat": 4,
 "nbformat_minor": 5
}
