# 🤖 Notebook 03: Model Training and Stacking with EcoStackML

This notebook demonstrates how to train base models and build a stacked ensemble using EcoStackML.

---

## 📥 Load cleaned dataset

```python
from ecostackml.data.loader import DataLoader

df = DataLoader.from_csv("notebooks/demo_data/sample.csv")
df["target"] = df["class"].map({"normal": 0, "alert": 1})
df = df.drop(columns=["class"])
df
```

---

## ✂️ Split the data

```python
from ecostackml.data.splitter import split_data

X_train, X_test, _, y_train, y_test, _ = split_data(
    df, target_column="target", test_size=0.2, stratify=True
)
```

---

## 🧠 Train base models and stacker

```python
from ecostackml.models.stacker import ModelStacker

stacker = ModelStacker(
    base_models_config=[
        {"name": "random_forest"},
        {"name": "xgboost"},
        {"name": "svm"}
    ],
    meta_model_name="logistic",
    model_type="classification"
)

stacker.fit(X_train, y_train)
```

---

## 🔮 Make predictions

```python
y_pred = stacker.predict(X_test)
print("Predictions:", y_pred)
```

---

You have now successfully trained:
- Multiple base models
- One meta-learner
- And created a powerful stacked ensemble!
