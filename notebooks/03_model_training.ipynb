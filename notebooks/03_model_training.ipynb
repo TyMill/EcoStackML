{
 "cells": [
  {
   "cell_type": "markdown",
   "id": "9ae82a43",
   "metadata": {},
   "source": [
    "# 🤖 Notebook 03: Model Training with EcoStackML"
   ]
  },
  {
   "cell_type": "code",
   "execution_count": null,
   "id": "bab79ea1",
   "metadata": {},
   "outputs": [],
   "source": [
    "from sklearn.datasets import make_classification\n",
    "import pandas as pd\n",
    "\n",
    "X, y = make_classification(n_samples=300, n_features=5, n_classes=2, random_state=42)\n",
    "df = pd.DataFrame(X, columns=[f\"feature_{i}\" for i in range(1, 6)])\n",
    "df['target'] = y\n",
    "df.head()"
   ]
  },
  {
   "cell_type": "code",
   "execution_count": null,
   "id": "a54f11e6",
   "metadata": {},
   "outputs": [],
   "source": [
    "from ecostackml.data.splitter import split_data\n",
    "\n",
    "X_train, X_test, _, y_train, y_test, _ = split_data(df, target_column=\"target\", test_size=0.2, stratify=True)"
   ]
  },
  {
   "cell_type": "code",
   "execution_count": null,
   "id": "2d5c8e2d",
   "metadata": {},
   "outputs": [],
   "source": [
    "from ecostackml.models.stacker import ModelStacker\n",
    "\n",
    "stacker = ModelStacker(\n",
    "    base_models_config=[{'name': 'random_forest'}, {'name': 'xgboost'}, {'name': 'svm'}],\n",
    "    meta_model_name='logistic', model_type='classification'\n",
    ")\n",
    "stacker.fit(X_train, y_train)"
   ]
  }
 ],
 "metadata": {},
 "nbformat": 4,
 "nbformat_minor": 5
}
