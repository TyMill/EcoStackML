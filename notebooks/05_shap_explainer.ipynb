{
 "cells": [
  {
   "cell_type": "markdown",
   "id": "f420a28a",
   "metadata": {},
   "source": [
    "# 🔍 Notebook 05: SHAP Explainer for EcoStackML"
   ]
  },
  {
   "cell_type": "code",
   "execution_count": null,
   "id": "34acf211",
   "metadata": {},
   "outputs": [],
   "source": [
    "stacker.explain_base_models(X_test)"
   ]
  },
  {
   "cell_type": "code",
   "execution_count": null,
   "id": "b859df74",
   "metadata": {},
   "outputs": [],
   "source": [
    "stacker.explain_meta_model(X_test)"
   ]
  }
 ],
 "metadata": {},
 "nbformat": 4,
 "nbformat_minor": 5
}
