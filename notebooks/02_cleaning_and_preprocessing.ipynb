{
 "cells": [
  {
   "cell_type": "markdown",
   "id": "1b218b35",
   "metadata": {},
   "source": [
    "# 🧼 Notebook 02: Cleaning and Preprocessing with EcoStackML"
   ]
  },
  {
   "cell_type": "code",
   "execution_count": null,
   "id": "7dcbb0d7",
   "metadata": {},
   "outputs": [],
   "source": [
    "import pandas as pd\n",
    "\n",
    "df = pd.DataFrame({\n",
    "    'temperature': [22.5, None, 21.8, 22.1, 22.9],\n",
    "    'humidity': [55, 53, None, 57, 56],\n",
    "    'weather': ['sunny', 'cloudy', 'sunny', None, 'rainy'],\n",
    "    'timestamp': ['2023-01-01 10:00', '2023-01-01 11:00', '2023-01-01 12:00', '2023-01-01 13:00', '2023-01-01 14:00']\n",
    "})\n",
    "df"
   ]
  },
  {
   "cell_type": "code",
   "execution_count": null,
   "id": "ebe2eaf5",
   "metadata": {},
   "outputs": [],
   "source": [
    "from ecostackml.preprocessing.cleaner import Cleaner\n",
    "\n",
    "cleaner = Cleaner(strategy='median', scaling='standard', anomaly_method='iqr', datetime_cols=['timestamp'])\n",
    "df_clean = cleaner.fit_transform(df)\n",
    "df_clean"
   ]
  }
 ],
 "metadata": {},
 "nbformat": 4,
 "nbformat_minor": 5
}
