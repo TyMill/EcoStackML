# 🧼 Notebook 02: Cleaning and Preprocessing with EcoStackML

This notebook demonstrates how to use the `Cleaner` class to process environmental data.

---

## 🔃 Load raw data

```python
import pandas as pd

# Simulate raw data with missing values and categorical column
df = pd.DataFrame({
    "temperature": [22.5, None, 21.8, 22.1, 22.9],
    "humidity": [55, 53, None, 57, 56],
    "weather": ["sunny", "cloudy", "sunny", None, "rainy"],
    "timestamp": ["2023-01-01 10:00", "2023-01-01 11:00", "2023-01-01 12:00", "2023-01-01 13:00", "2023-01-01 14:00"]
})
df
```

---

## 🧽 Preprocess with `Cleaner`

```python
from ecostackml.preprocessing.cleaner import Cleaner

cleaner = Cleaner(
    strategy='median',
    scaling='standard',
    anomaly_method='iqr',
    datetime_cols=['timestamp']
)

df_clean = cleaner.fit_transform(df)
df_clean
```

---

## 📊 Explanation

The cleaner performs:
- Missing value imputation (median strategy)
- Encoding categorical columns (`LabelEncoder`)
- Scaling numerical values (`StandardScaler`)
- Datetime feature extraction (`year`, `month`, etc.)
- Outlier removal using IQR

You can adjust parameters for different strategies.
