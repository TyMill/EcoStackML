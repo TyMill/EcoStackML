{
 "cells": [
  {
   "cell_type": "markdown",
   "id": "cdb4c61a",
   "metadata": {},
   "source": [
    "# 📊 Notebook 04: Model Evaluation with EcoStackML"
   ]
  },
  {
   "cell_type": "code",
   "execution_count": null,
   "id": "c1664291",
   "metadata": {},
   "outputs": [],
   "source": [
    "y_pred = stacker.predict(X_test)\n",
    "\n",
    "import pandas as pd\n",
    "meta_input = pd.DataFrame([\n",
    "    model.model.predict(X_test) for model in stacker.base_models\n",
    "]).T\n",
    "y_proba = stacker.meta_model.model.predict_proba(meta_input)[:, 1]"
   ]
  },
  {
   "cell_type": "code",
   "execution_count": null,
   "id": "cc7785c2",
   "metadata": {},
   "outputs": [],
   "source": [
    "from ecostackml.models.evaluator import evaluate_classification\n",
    "\n",
    "metrics = evaluate_classification(y_test, y_pred, y_proba, plot=True)\n",
    "metrics"
   ]
  }
 ],
 "metadata": {},
 "nbformat": 4,
 "nbformat_minor": 5
}
